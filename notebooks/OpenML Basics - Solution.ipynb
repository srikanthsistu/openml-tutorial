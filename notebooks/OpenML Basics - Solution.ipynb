{
 "cells": [
  {
   "cell_type": "markdown",
   "metadata": {
    "colab_type": "text",
    "id": "wrlV3WHw9hKF",
    "slideshow": {
     "slide_type": "slide"
    }
   },
   "source": [
    "# OpenML in Python \n",
    "OpenML is an online collaboration platform for machine learning: \n",
    "\n",
    "* Find or share interesting, well-documented datasets\n",
    "* Define research / modelling goals (tasks)\n",
    "* Explore large amounts of machine learning algorithms, with APIs in Java, R, Python\n",
    "* Log and share reproducible experiments, models, results \n",
    "* Works seamlessly with scikit-learn and other libraries\n",
    "* Large scale benchmarking, compare to state of the art"
   ]
  },
  {
   "cell_type": "markdown",
   "metadata": {
    "colab_type": "text",
    "id": "tGfVXn7q9hKG",
    "slideshow": {
     "slide_type": "slide"
    }
   },
   "source": [
    "# Installation\n",
    "\n",
    "* `pip install openml`"
   ]
  },
  {
   "cell_type": "code",
   "execution_count": null,
   "metadata": {
    "colab": {},
    "colab_type": "code",
    "id": "3QTmbvCn9r87"
   },
   "outputs": [],
   "source": [
    "#!pip install openml"
   ]
  },
  {
   "cell_type": "markdown",
   "metadata": {
    "colab_type": "text",
    "id": "QWErwB4i9hKU",
    "slideshow": {
     "slide_type": "subslide"
    }
   },
   "source": [
    "### Exercise\n",
    "- Find datasets with more than 10000 examples\n",
    "- Find a dataset called 'eeg_eye_state'\n",
    "- Find all datasets with more than 50 classes"
   ]
  },
  {
   "cell_type": "code",
   "execution_count": 2,
   "metadata": {
    "colab": {},
    "colab_type": "code",
    "id": "xuRd3UQBGTgr"
   },
   "outputs": [
    {
     "name": "stdout",
     "output_type": "stream",
     "text": [
      "First 10 of 2595 datasets...\n"
     ]
    },
    {
     "data": {
      "text/html": [
       "<div>\n",
       "<style scoped>\n",
       "    .dataframe tbody tr th:only-of-type {\n",
       "        vertical-align: middle;\n",
       "    }\n",
       "\n",
       "    .dataframe tbody tr th {\n",
       "        vertical-align: top;\n",
       "    }\n",
       "\n",
       "    .dataframe thead th {\n",
       "        text-align: right;\n",
       "    }\n",
       "</style>\n",
       "<table border=\"1\" class=\"dataframe\">\n",
       "  <thead>\n",
       "    <tr style=\"text-align: right;\">\n",
       "      <th></th>\n",
       "      <th>did</th>\n",
       "      <th>name</th>\n",
       "      <th>NumberOfInstances</th>\n",
       "      <th>NumberOfFeatures</th>\n",
       "      <th>NumberOfClasses</th>\n",
       "    </tr>\n",
       "  </thead>\n",
       "  <tbody>\n",
       "    <tr>\n",
       "      <th>2</th>\n",
       "      <td>2</td>\n",
       "      <td>anneal</td>\n",
       "      <td>898.0</td>\n",
       "      <td>39.0</td>\n",
       "      <td>5.0</td>\n",
       "    </tr>\n",
       "    <tr>\n",
       "      <th>3</th>\n",
       "      <td>3</td>\n",
       "      <td>kr-vs-kp</td>\n",
       "      <td>3196.0</td>\n",
       "      <td>37.0</td>\n",
       "      <td>2.0</td>\n",
       "    </tr>\n",
       "    <tr>\n",
       "      <th>4</th>\n",
       "      <td>4</td>\n",
       "      <td>labor</td>\n",
       "      <td>57.0</td>\n",
       "      <td>17.0</td>\n",
       "      <td>2.0</td>\n",
       "    </tr>\n",
       "    <tr>\n",
       "      <th>5</th>\n",
       "      <td>5</td>\n",
       "      <td>arrhythmia</td>\n",
       "      <td>452.0</td>\n",
       "      <td>280.0</td>\n",
       "      <td>13.0</td>\n",
       "    </tr>\n",
       "    <tr>\n",
       "      <th>6</th>\n",
       "      <td>6</td>\n",
       "      <td>letter</td>\n",
       "      <td>20000.0</td>\n",
       "      <td>17.0</td>\n",
       "      <td>26.0</td>\n",
       "    </tr>\n",
       "    <tr>\n",
       "      <th>7</th>\n",
       "      <td>7</td>\n",
       "      <td>audiology</td>\n",
       "      <td>226.0</td>\n",
       "      <td>70.0</td>\n",
       "      <td>24.0</td>\n",
       "    </tr>\n",
       "    <tr>\n",
       "      <th>8</th>\n",
       "      <td>8</td>\n",
       "      <td>liver-disorders</td>\n",
       "      <td>345.0</td>\n",
       "      <td>7.0</td>\n",
       "      <td>0.0</td>\n",
       "    </tr>\n",
       "    <tr>\n",
       "      <th>9</th>\n",
       "      <td>9</td>\n",
       "      <td>autos</td>\n",
       "      <td>205.0</td>\n",
       "      <td>26.0</td>\n",
       "      <td>6.0</td>\n",
       "    </tr>\n",
       "    <tr>\n",
       "      <th>10</th>\n",
       "      <td>10</td>\n",
       "      <td>lymph</td>\n",
       "      <td>148.0</td>\n",
       "      <td>19.0</td>\n",
       "      <td>4.0</td>\n",
       "    </tr>\n",
       "    <tr>\n",
       "      <th>11</th>\n",
       "      <td>11</td>\n",
       "      <td>balance-scale</td>\n",
       "      <td>625.0</td>\n",
       "      <td>5.0</td>\n",
       "      <td>3.0</td>\n",
       "    </tr>\n",
       "  </tbody>\n",
       "</table>\n",
       "</div>"
      ],
      "text/plain": [
       "    did             name  NumberOfInstances  NumberOfFeatures  NumberOfClasses\n",
       "2     2           anneal              898.0              39.0              5.0\n",
       "3     3         kr-vs-kp             3196.0              37.0              2.0\n",
       "4     4            labor               57.0              17.0              2.0\n",
       "5     5       arrhythmia              452.0             280.0             13.0\n",
       "6     6           letter            20000.0              17.0             26.0\n",
       "7     7        audiology              226.0              70.0             24.0\n",
       "8     8  liver-disorders              345.0               7.0              0.0\n",
       "9     9            autos              205.0              26.0              6.0\n",
       "10   10            lymph              148.0              19.0              4.0\n",
       "11   11    balance-scale              625.0               5.0              3.0"
      ]
     },
     "execution_count": 2,
     "metadata": {},
     "output_type": "execute_result"
    }
   ],
   "source": [
    "# List datasets\n",
    "import openml as oml\n",
    "openml_list = oml.datasets.list_datasets()\n",
    "\n",
    "# Show a nice table\n",
    "import pandas as pd\n",
    "datalist = pd.DataFrame.from_dict(openml_list, orient='index') \n",
    "datalist = datalist[['did','name','NumberOfInstances','NumberOfFeatures','NumberOfClasses'\n",
    "]]\n",
    "print(\"First 10 of %s datasets...\" % len(datalist))\n",
    "datalist.head(n=10)"
   ]
  },
  {
   "cell_type": "code",
   "execution_count": 5,
   "metadata": {
    "colab": {},
    "colab_type": "code",
    "id": "nNx_FWP69hKU"
   },
   "outputs": [
    {
     "data": {
      "text/html": [
       "<div>\n",
       "<style scoped>\n",
       "    .dataframe tbody tr th:only-of-type {\n",
       "        vertical-align: middle;\n",
       "    }\n",
       "\n",
       "    .dataframe tbody tr th {\n",
       "        vertical-align: top;\n",
       "    }\n",
       "\n",
       "    .dataframe thead th {\n",
       "        text-align: right;\n",
       "    }\n",
       "</style>\n",
       "<table border=\"1\" class=\"dataframe\">\n",
       "  <thead>\n",
       "    <tr style=\"text-align: right;\">\n",
       "      <th></th>\n",
       "      <th>did</th>\n",
       "      <th>name</th>\n",
       "      <th>NumberOfInstances</th>\n",
       "      <th>NumberOfFeatures</th>\n",
       "      <th>NumberOfClasses</th>\n",
       "    </tr>\n",
       "  </thead>\n",
       "  <tbody>\n",
       "    <tr>\n",
       "      <th>23515</th>\n",
       "      <td>23515</td>\n",
       "      <td>sulfur</td>\n",
       "      <td>10081.0</td>\n",
       "      <td>7.0</td>\n",
       "      <td>0.0</td>\n",
       "    </tr>\n",
       "    <tr>\n",
       "      <th>981</th>\n",
       "      <td>981</td>\n",
       "      <td>kdd_internet_usage</td>\n",
       "      <td>10108.0</td>\n",
       "      <td>69.0</td>\n",
       "      <td>2.0</td>\n",
       "    </tr>\n",
       "    <tr>\n",
       "      <th>372</th>\n",
       "      <td>372</td>\n",
       "      <td>internet_usage</td>\n",
       "      <td>10108.0</td>\n",
       "      <td>72.0</td>\n",
       "      <td>46.0</td>\n",
       "    </tr>\n",
       "    <tr>\n",
       "      <th>1536</th>\n",
       "      <td>1536</td>\n",
       "      <td>volcanoes-b6</td>\n",
       "      <td>10130.0</td>\n",
       "      <td>4.0</td>\n",
       "      <td>5.0</td>\n",
       "    </tr>\n",
       "    <tr>\n",
       "      <th>1531</th>\n",
       "      <td>1531</td>\n",
       "      <td>volcanoes-b1</td>\n",
       "      <td>10176.0</td>\n",
       "      <td>4.0</td>\n",
       "      <td>5.0</td>\n",
       "    </tr>\n",
       "    <tr>\n",
       "      <th>1534</th>\n",
       "      <td>1534</td>\n",
       "      <td>volcanoes-b4</td>\n",
       "      <td>10190.0</td>\n",
       "      <td>4.0</td>\n",
       "      <td>5.0</td>\n",
       "    </tr>\n",
       "    <tr>\n",
       "      <th>1459</th>\n",
       "      <td>1459</td>\n",
       "      <td>artificial-characters</td>\n",
       "      <td>10218.0</td>\n",
       "      <td>8.0</td>\n",
       "      <td>10.0</td>\n",
       "    </tr>\n",
       "    <tr>\n",
       "      <th>1478</th>\n",
       "      <td>1478</td>\n",
       "      <td>har</td>\n",
       "      <td>10299.0</td>\n",
       "      <td>562.0</td>\n",
       "      <td>6.0</td>\n",
       "    </tr>\n",
       "    <tr>\n",
       "      <th>1533</th>\n",
       "      <td>1533</td>\n",
       "      <td>volcanoes-b3</td>\n",
       "      <td>10386.0</td>\n",
       "      <td>4.0</td>\n",
       "      <td>5.0</td>\n",
       "    </tr>\n",
       "    <tr>\n",
       "      <th>1532</th>\n",
       "      <td>1532</td>\n",
       "      <td>volcanoes-b2</td>\n",
       "      <td>10668.0</td>\n",
       "      <td>4.0</td>\n",
       "      <td>5.0</td>\n",
       "    </tr>\n",
       "    <tr>\n",
       "      <th>1053</th>\n",
       "      <td>1053</td>\n",
       "      <td>jm1</td>\n",
       "      <td>10885.0</td>\n",
       "      <td>22.0</td>\n",
       "      <td>2.0</td>\n",
       "    </tr>\n",
       "    <tr>\n",
       "      <th>1414</th>\n",
       "      <td>1414</td>\n",
       "      <td>Kaggle_bike_sharing_demand_challange</td>\n",
       "      <td>10886.0</td>\n",
       "      <td>12.0</td>\n",
       "      <td>0.0</td>\n",
       "    </tr>\n",
       "    <tr>\n",
       "      <th>1044</th>\n",
       "      <td>1044</td>\n",
       "      <td>eye_movements</td>\n",
       "      <td>10936.0</td>\n",
       "      <td>28.0</td>\n",
       "      <td>3.0</td>\n",
       "    </tr>\n",
       "    <tr>\n",
       "      <th>1019</th>\n",
       "      <td>1019</td>\n",
       "      <td>pendigits</td>\n",
       "      <td>10992.0</td>\n",
       "      <td>17.0</td>\n",
       "      <td>2.0</td>\n",
       "    </tr>\n",
       "    <tr>\n",
       "      <th>32</th>\n",
       "      <td>32</td>\n",
       "      <td>pendigits</td>\n",
       "      <td>10992.0</td>\n",
       "      <td>17.0</td>\n",
       "      <td>10.0</td>\n",
       "    </tr>\n",
       "    <tr>\n",
       "      <th>4534</th>\n",
       "      <td>4534</td>\n",
       "      <td>PhishingWebsites</td>\n",
       "      <td>11055.0</td>\n",
       "      <td>31.0</td>\n",
       "      <td>2.0</td>\n",
       "    </tr>\n",
       "    <tr>\n",
       "      <th>399</th>\n",
       "      <td>399</td>\n",
       "      <td>ohscal.wc</td>\n",
       "      <td>11162.0</td>\n",
       "      <td>11466.0</td>\n",
       "      <td>10.0</td>\n",
       "    </tr>\n",
       "    <tr>\n",
       "      <th>310</th>\n",
       "      <td>310</td>\n",
       "      <td>mammography</td>\n",
       "      <td>11183.0</td>\n",
       "      <td>7.0</td>\n",
       "      <td>2.0</td>\n",
       "    </tr>\n",
       "    <tr>\n",
       "      <th>1568</th>\n",
       "      <td>1568</td>\n",
       "      <td>nursery</td>\n",
       "      <td>12958.0</td>\n",
       "      <td>9.0</td>\n",
       "      <td>4.0</td>\n",
       "    </tr>\n",
       "    <tr>\n",
       "      <th>959</th>\n",
       "      <td>959</td>\n",
       "      <td>nursery</td>\n",
       "      <td>12960.0</td>\n",
       "      <td>9.0</td>\n",
       "      <td>2.0</td>\n",
       "    </tr>\n",
       "  </tbody>\n",
       "</table>\n",
       "</div>"
      ],
      "text/plain": [
       "         did                                  name  NumberOfInstances  \\\n",
       "23515  23515                                sulfur            10081.0   \n",
       "981      981                    kdd_internet_usage            10108.0   \n",
       "372      372                        internet_usage            10108.0   \n",
       "1536    1536                          volcanoes-b6            10130.0   \n",
       "1531    1531                          volcanoes-b1            10176.0   \n",
       "1534    1534                          volcanoes-b4            10190.0   \n",
       "1459    1459                 artificial-characters            10218.0   \n",
       "1478    1478                                   har            10299.0   \n",
       "1533    1533                          volcanoes-b3            10386.0   \n",
       "1532    1532                          volcanoes-b2            10668.0   \n",
       "1053    1053                                   jm1            10885.0   \n",
       "1414    1414  Kaggle_bike_sharing_demand_challange            10886.0   \n",
       "1044    1044                         eye_movements            10936.0   \n",
       "1019    1019                             pendigits            10992.0   \n",
       "32        32                             pendigits            10992.0   \n",
       "4534    4534                      PhishingWebsites            11055.0   \n",
       "399      399                             ohscal.wc            11162.0   \n",
       "310      310                           mammography            11183.0   \n",
       "1568    1568                               nursery            12958.0   \n",
       "959      959                               nursery            12960.0   \n",
       "\n",
       "       NumberOfFeatures  NumberOfClasses  \n",
       "23515               7.0              0.0  \n",
       "981                69.0              2.0  \n",
       "372                72.0             46.0  \n",
       "1536                4.0              5.0  \n",
       "1531                4.0              5.0  \n",
       "1534                4.0              5.0  \n",
       "1459                8.0             10.0  \n",
       "1478              562.0              6.0  \n",
       "1533                4.0              5.0  \n",
       "1532                4.0              5.0  \n",
       "1053               22.0              2.0  \n",
       "1414               12.0              0.0  \n",
       "1044               28.0              3.0  \n",
       "1019               17.0              2.0  \n",
       "32                 17.0             10.0  \n",
       "4534               31.0              2.0  \n",
       "399             11466.0             10.0  \n",
       "310                 7.0              2.0  \n",
       "1568                9.0              4.0  \n",
       "959                 9.0              2.0  "
      ]
     },
     "execution_count": 5,
     "metadata": {},
     "output_type": "execute_result"
    }
   ],
   "source": [
    "datalist[datalist.NumberOfInstances>10000\n",
    "        ].sort_values(['NumberOfInstances']).head(n=20)"
   ]
  },
  {
   "cell_type": "code",
   "execution_count": 6,
   "metadata": {
    "colab": {},
    "colab_type": "code",
    "id": "L-UvsWWG9hKX"
   },
   "outputs": [
    {
     "data": {
      "text/html": [
       "<div>\n",
       "<style scoped>\n",
       "    .dataframe tbody tr th:only-of-type {\n",
       "        vertical-align: middle;\n",
       "    }\n",
       "\n",
       "    .dataframe tbody tr th {\n",
       "        vertical-align: top;\n",
       "    }\n",
       "\n",
       "    .dataframe thead th {\n",
       "        text-align: right;\n",
       "    }\n",
       "</style>\n",
       "<table border=\"1\" class=\"dataframe\">\n",
       "  <thead>\n",
       "    <tr style=\"text-align: right;\">\n",
       "      <th></th>\n",
       "      <th>did</th>\n",
       "      <th>name</th>\n",
       "      <th>NumberOfInstances</th>\n",
       "      <th>NumberOfFeatures</th>\n",
       "      <th>NumberOfClasses</th>\n",
       "    </tr>\n",
       "  </thead>\n",
       "  <tbody>\n",
       "    <tr>\n",
       "      <th>1471</th>\n",
       "      <td>1471</td>\n",
       "      <td>eeg-eye-state</td>\n",
       "      <td>14980.0</td>\n",
       "      <td>15.0</td>\n",
       "      <td>2.0</td>\n",
       "    </tr>\n",
       "  </tbody>\n",
       "</table>\n",
       "</div>"
      ],
      "text/plain": [
       "       did           name  NumberOfInstances  NumberOfFeatures  \\\n",
       "1471  1471  eeg-eye-state            14980.0              15.0   \n",
       "\n",
       "      NumberOfClasses  \n",
       "1471              2.0  "
      ]
     },
     "execution_count": 6,
     "metadata": {},
     "output_type": "execute_result"
    }
   ],
   "source": [
    "datalist.query('name == \"eeg-eye-state\"')"
   ]
  },
  {
   "cell_type": "code",
   "execution_count": null,
   "metadata": {
    "colab": {},
    "colab_type": "code",
    "id": "gfxp_scb9hKb"
   },
   "outputs": [],
   "source": [
    "datalist.query('NumberOfClasses > 50')"
   ]
  },
  {
   "cell_type": "markdown",
   "metadata": {
    "colab_type": "text",
    "id": "xu1M33Ma9hKf",
    "slideshow": {
     "slide_type": "subslide"
    }
   },
   "source": [
    "## Download datasets\n",
    "Download the `eeg_eye_state` dataset. This is done based on the dataset ID ('did')."
   ]
  },
  {
   "cell_type": "code",
   "execution_count": 7,
   "metadata": {
    "colab": {},
    "colab_type": "code",
    "id": "qMSPGZF29hKf"
   },
   "outputs": [
    {
     "name": "stdout",
     "output_type": "stream",
     "text": [
      "This is dataset 'eeg-eye-state', the target feature is 'Class'\n",
      "URL: https://www.openml.org/data/v1/download/1587924/eeg-eye-state.arff\n",
      "**Author**: Oliver Roesler  \n",
      "\n",
      "**Source**: [UCI](https://archive.ics.uci.edu/ml/datasets/EEG+Eye+State), Baden-Wuerttemberg, Cooperative State University (DHBW), Stuttgart, Germany  \n",
      "\n",
      "**Please cite**: [UCI](https://archive.ics.uci.edu/ml/citation_policy.html)  \n",
      "\n",
      "\n",
      "\n",
      "All data is from one continuous EEG measurement with the Emotiv EEG Neuroheadset. The duration of the measurement was 117 seconds. The eye state was detected via a camera during the EEG measurement and added later manually to the file a\n"
     ]
    }
   ],
   "source": [
    "dataset = oml.datasets.get_dataset(1471)\n",
    "\n",
    "# Print a summary\n",
    "print(\"This is dataset '%s', the target feature is '%s'\" % \n",
    "      (dataset.name, dataset.default_target_attribute))\n",
    "print(\"URL: %s\" % dataset.url)\n",
    "print(dataset.description[:500])"
   ]
  },
  {
   "cell_type": "markdown",
   "metadata": {
    "colab_type": "text",
    "id": "lcbLwDzX9hKj",
    "slideshow": {
     "slide_type": "subslide"
    }
   },
   "source": [
    "Get the actual data.  \n",
    "Returned as numpy array, with meta-info (e.g. target feature, feature names,...)"
   ]
  },
  {
   "cell_type": "code",
   "execution_count": 8,
   "metadata": {
    "colab": {},
    "colab_type": "code",
    "id": "Lqg1h96n9hKk"
   },
   "outputs": [
    {
     "name": "stdout",
     "output_type": "stream",
     "text": [
      "            V1           V2           V3           V4           V5  \\\n",
      "0  4329.229980  4009.229980  4289.229980  4148.209961  4350.259766   \n",
      "1  4324.620117  4004.620117  4293.850098  4148.720215  4342.049805   \n",
      "2  4327.689941  4006.669922  4295.379883  4156.410156  4336.919922   \n",
      "3  4328.720215  4011.790039  4296.410156  4155.899902  4343.589844   \n",
      "4  4326.149902  4011.790039  4292.310059  4151.279785  4347.689941   \n",
      "5  4321.029785  4004.620117  4284.100098  4153.330078  4345.640137   \n",
      "6  4319.490234  4001.030029  4280.509766  4151.790039  4343.589844   \n",
      "7  4325.640137  4006.669922  4278.459961  4143.080078  4344.100098   \n",
      "8  4326.149902  4010.770020  4276.410156  4139.490234  4345.129883   \n",
      "9  4326.149902  4011.280029  4276.919922  4142.049805  4344.100098   \n",
      "\n",
      "            V6           V7           V8           V9          V10  \\\n",
      "0  4586.149902  4096.919922  4641.029785  4222.049805  4238.459961   \n",
      "1  4586.669922  4097.439941  4638.970215  4210.770020  4226.669922   \n",
      "2  4583.589844  4096.919922  4630.259766  4207.689941  4222.049805   \n",
      "3  4582.560059  4097.439941  4630.770020  4217.439941  4235.379883   \n",
      "4  4586.669922  4095.899902  4627.689941  4210.770020  4244.100098   \n",
      "5  4587.180176  4093.330078  4616.919922  4202.560059  4232.819824   \n",
      "6  4584.620117  4089.739990  4615.899902  4212.310059  4226.669922   \n",
      "7  4583.080078  4087.179932  4614.870117  4205.640137  4230.259766   \n",
      "8  4584.100098  4091.280029  4608.209961  4187.689941  4229.740234   \n",
      "9  4582.560059  4092.820068  4608.720215  4194.359863  4228.720215   \n",
      "\n",
      "           V11          V12          V13          V14  class  \n",
      "0  4211.279785  4280.509766  4635.899902  4393.850098      0  \n",
      "1  4207.689941  4279.490234  4632.819824  4384.100098      0  \n",
      "2  4206.669922  4282.049805  4628.720215  4389.229980      0  \n",
      "3  4210.770020  4287.689941  4632.310059  4396.410156      0  \n",
      "4  4212.819824  4288.209961  4632.819824  4398.459961      0  \n",
      "5  4209.740234  4281.029785  4628.209961  4389.740234      0  \n",
      "6  4201.029785  4269.740234  4625.129883  4378.459961      0  \n",
      "7  4195.899902  4266.669922  4622.049805  4380.509766      0  \n",
      "8  4202.049805  4273.850098  4627.180176  4389.740234      0  \n",
      "9  4212.819824  4277.950195  4637.439941  4393.330078      0  \n"
     ]
    }
   ],
   "source": [
    "X, y, attribute_names = dataset.get_data(\n",
    "    target=dataset.default_target_attribute,\n",
    "    return_attribute_names=True,\n",
    ")\n",
    "eeg = pd.DataFrame(X, columns=attribute_names)\n",
    "eeg['class'] = y\n",
    "print(eeg[:10])"
   ]
  },
  {
   "cell_type": "markdown",
   "metadata": {
    "colab_type": "text",
    "id": "2Es1EZWXGkvH"
   },
   "source": [
    "### Exercise\n",
    "- Explore the data visually"
   ]
  },
  {
   "cell_type": "code",
   "execution_count": 9,
   "metadata": {
    "colab": {},
    "colab_type": "code",
    "id": "ULlyEm3EGkYN",
    "slideshow": {
     "slide_type": "skip"
    }
   },
   "outputs": [
    {
     "data": {
      "image/png": "[encoded data removed]",
      "text/plain": [
       "<Figure size 720x720 with 16 Axes>"
      ]
     },
     "metadata": {},
     "output_type": "display_data"
    }
   ],
   "source": [
    "%matplotlib inline\n",
    "eegs = eeg.sample(n=1000)\n",
    "_ = pd.plotting.scatter_matrix(\n",
    "    eegs.iloc[:100,:4], \n",
    "    c=eegs[:100]['class'], \n",
    "    figsize=(10, 10), \n",
    "    marker='o', \n",
    "    hist_kwds={'bins': 20}, \n",
    "    alpha=.8, \n",
    "    cmap='plasma'\n",
    ")"
   ]
  },
  {
   "cell_type": "code",
   "execution_count": null,
   "metadata": {
    "colab": {},
    "colab_type": "code",
    "id": "AHZlo6vaHIrY"
   },
   "outputs": [],
   "source": []
  },
  {
   "cell_type": "markdown",
   "metadata": {
    "colab_type": "text",
    "id": "gUr122_UHUaE"
   },
   "source": [
    "# Task\n",
    "\n",
    "The function `openml.evaluation.list_evaluations(...)` returns a dictionary of evaluation records. It has several filtering functions, to keep the resulting set small (keep in mind that OpenML has almost 10 million runs, and more than a billion evaluation records). The function is documented in the [API docs](https://openml.github.io/openml-python/master/generated/openml.evaluations.list_evaluations.html#openml.evaluations.list_evaluations). It returns a dict mapping from `run_id` to [OpenMLEvaluation](https://openml.github.io/openml-python/master/generated/openml.OpenMLEvaluation.html#openml.OpenMLEvaluation). Examples of filters are `task`, `flow` and `function`. Note that one of these is mandatory.\n",
    "\n",
    "* Obtain a subset of 100 predictive accuracy (`predictive_accuracy`) results on the letter dataset (task id = 6).\n",
    "* Obtain a subset of 100 predictive accuracy (`predictive_accuracy`) results per task in the OpenML 100 and plot these "
   ]
  },
  {
   "cell_type": "code",
   "execution_count": null,
   "metadata": {
    "colab": {},
    "colab_type": "code",
    "id": "jMciw6FWKE4p"
   },
   "outputs": [],
   "source": [
    "import seaborn as sns\n",
    "import pandas as pd\n",
    "import openml as oml\n",
    "\n",
    "suite = oml.study.get_study('OpenML100')\n",
    "scores = []\n",
    "for task_id in suite.tasks[:10]: # [SPEED] only first 10 tasks\n",
    "  results = oml.evaluations.list_evaluations(function='predictive_accuracy', task=[task_id], size=100)\n",
    "  # Download the tasks and plot the scores\n",
    "  for evaluation in results.values():\n",
    "    scores.append({\"flow\": evaluation.flow_name, \"score\": evaluation.value, \"task\": evaluation.data_name})\n",
    "    \n",
    "sns.violinplot(x=\"task\", y=\"score\", data=pd.DataFrame(scores), scale=\"width\", palette=\"Set3\");"
   ]
  },
  {
   "cell_type": "markdown",
   "metadata": {
    "colab_type": "text",
    "id": "-l2NqTv4Q-xm"
   },
   "source": [
    "# Dataset Upload\n",
    "\n",
    "There are various ways to upload a dataset. The most convenient ways are documented in [this example](https://github.com/openml/openml-python/blob/master/examples/create_upload_tutorial.py). Most conveniently, this can be done using a [pandas dataframe](https://github.com/openml/openml-python/blob/a0ef724fec6ab31f6381d3ac2a84827ab535170d/examples/create_upload_tutorial.py#L206). Additionally, we need to create a [OpenMLDataset](https://openml.github.io/openml-python/master/generated/openml.OpenMLDataset.html#openml.OpenMLDataset) object, containing information about the dataset. Most notably, the arguments `name`, `default_target_attribute`, `attributes` and `data` need to be set.\n",
    "\n",
    "* Find your favorite dataset (on your laptop), load it as pandas dataframe and upload it to OpenML.\n",
    "* Common problem: Server returns error 131. This means that the description file was not complete. The [XSD](https://github.com/openml/OpenML/blob/master/openml_OS/views/pages/api_new/v1/xsd/openml.data.upload.xsd) for uploading the dataset hints what fields are mandatory.\n"
   ]
  },
  {
   "cell_type": "code",
   "execution_count": null,
   "metadata": {
    "colab": {},
    "colab_type": "code",
    "id": "lhh3TWuNQ9i5"
   },
   "outputs": [],
   "source": [
    "data = [\n",
    "    ['sunny', 85, 85, 'FALSE', 'no'],\n",
    "    ['sunny', 80, 90, 'TRUE', 'no'],\n",
    "    ['overcast', 83, 86, 'FALSE', 'yes'],\n",
    "    ['rainy', 70, 96, 'FALSE', 'yes'],\n",
    "    ['rainy', 68, 80, 'FALSE', 'yes'],\n",
    "    ['rainy', 65, 70, 'TRUE', 'no'],\n",
    "    ['overcast', 64, 65, 'TRUE', 'yes'],\n",
    "    ['sunny', 72, 95, 'FALSE', 'no'],\n",
    "    ['sunny', 69, 70, 'FALSE', 'yes'],\n",
    "    ['rainy', 75, 80, 'FALSE', 'yes'],\n",
    "    ['sunny', 75, 70, 'TRUE', 'yes'],\n",
    "    ['overcast', 72, 90, 'TRUE', 'yes'],\n",
    "    ['overcast', 81, 75, 'FALSE', 'yes'],\n",
    "    ['rainy', 71, 91, 'TRUE', 'no'],\n",
    "]\n",
    "\n",
    "attribute_names = [\n",
    "    ('outlook', ['sunny', 'overcast', 'rainy']),\n",
    "    ('temperature', 'REAL'),\n",
    "    ('humidity', 'REAL'),\n",
    "    ('windy', ['TRUE', 'FALSE']),\n",
    "    ('play', ['yes', 'no']),\n",
    "]\n",
    "\n",
    "description = (\n",
    "    'The weather problem is a tiny dataset that we will use repeatedly'\n",
    "    ' to illustrate machine learning methods. Entirely fictitious, it '\n",
    "    'supposedly concerns the conditions that are suitable for playing '\n",
    "    'some unspecified game. In general, instances in a dataset are '\n",
    "    'characterized by the values of features, or attributes, that measure '\n",
    "    'different aspects of the instance. In this case there are four '\n",
    "    'attributes: outlook, temperature, humidity, and windy. '\n",
    "    'The outcome is whether to play or not.'\n",
    ")\n",
    "\n",
    "oml.config.server = 'https://test.openml.org/api/v1/xml'\n",
    "oml.config.apikey = 'FILL_IN_APIKEY'\n",
    "\n",
    "df = pd.DataFrame(data, columns=[col_name for col_name, _ in attribute_names])\n",
    "# enforce the categorical column to have a categorical dtype\n",
    "df['outlook'] = df['outlook'].astype('category')\n",
    "df['windy'] = df['windy'].astype('bool')\n",
    "df['play'] = df['play'].astype('category')\n",
    "print(df.info())\n",
    "\n",
    "############################################################################\n",
    "# We enforce the column 'outlook', 'windy', and 'play' to be a categorical\n",
    "# dtype while the column 'rnd_str' is kept as a string column. Then, we can\n",
    "# call :func:`create_dataset` by passing the dataframe and fixing the parameter\n",
    "# ``attributes`` to ``'auto'``.\n",
    "\n",
    "weather_dataset = oml.datasets.create_dataset(\n",
    "    name=\"Weather\",\n",
    "    description=description,\n",
    "    default_target_attribute='play',\n",
    "    attributes='auto',\n",
    "    data=df, \n",
    "    creator=None,\n",
    "    contributor=None, \n",
    "    collection_date=None, \n",
    "    language=None, \n",
    "    licence=None, \n",
    "    ignore_attribute=None, \n",
    "    citation=None,\n",
    ")\n",
    "\n",
    "\n",
    "upload_did = weather_dataset.publish()\n",
    "print('URL for dataset: %s/data/%d' % (oml.config.server, upload_did))\n"
   ]
  }
 ],
 "metadata": {
  "colab": {
   "collapsed_sections": [],
   "name": "OpenML Tutorial Dataset.ipynb",
   "provenance": [],
   "version": "0.3.2"
  },
  "kernelspec": {
   "display_name": "Python 3",
   "language": "python",
   "name": "python3"
  },
  "language_info": {
   "codemirror_mode": {
    "name": "ipython",
    "version": 3
   },
   "file_extension": ".py",
   "mimetype": "text/x-python",
   "name": "python",
   "nbconvert_exporter": "python",
   "pygments_lexer": "ipython3",
   "version": "3.6.5"
  }
 },
 "nbformat": 4,
 "nbformat_minor": 1
}

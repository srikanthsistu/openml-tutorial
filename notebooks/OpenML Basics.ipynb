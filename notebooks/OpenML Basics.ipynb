{
 "cells": [
  {
   "cell_type": "markdown",
   "metadata": {
    "colab_type": "text",
    "id": "wrlV3WHw9hKF",
    "slideshow": {
     "slide_type": "slide"
    }
   },
   "source": [
    "# OpenML in Python \n",
    "OpenML is an online collaboration platform for machine learning: \n",
    "\n",
    "* Find or share interesting, well-documented datasets\n",
    "* Define research / modelling goals (tasks)\n",
    "* Explore large amounts of machine learning algorithms, with APIs in Java, R, Python\n",
    "* Log and share reproducible experiments, models, results \n",
    "* Works seamlessly with scikit-learn and other libraries\n",
    "* Large scale benchmarking, compare to state of the art"
   ]
  },
  {
   "cell_type": "markdown",
   "metadata": {
    "colab_type": "text",
    "id": "tGfVXn7q9hKG",
    "slideshow": {
     "slide_type": "slide"
    }
   },
   "source": [
    "# Installation\n",
    "\n",
    "* `pip install openml`"
   ]
  },
  {
   "cell_type": "code",
   "execution_count": 1,
   "metadata": {
    "colab": {},
    "colab_type": "code",
    "id": "3QTmbvCn9r87"
   },
   "outputs": [],
   "source": [
    "#!pip install openml # already installed"
   ]
  },
  {
   "cell_type": "markdown",
   "metadata": {
    "colab_type": "text",
    "id": "QWErwB4i9hKU",
    "slideshow": {
     "slide_type": "subslide"
    }
   },
   "source": [
    "### Exercise\n",
    "- Find datasets with more than 10000 examples\n",
    "- Find a dataset called 'eeg_eye_state'\n",
    "- Find all datasets with more than 50 classes"
   ]
  },
  {
   "cell_type": "markdown",
   "metadata": {},
   "source": [
    "##### Imports"
   ]
  },
  {
   "cell_type": "code",
   "execution_count": 2,
   "metadata": {},
   "outputs": [],
   "source": [
    "from openml import datasets, tasks, runs, flows, config, evaluations, study\n",
    "import os, pandas as pd, numpy as np, seaborn as sns, sklearn"
   ]
  },
  {
   "cell_type": "markdown",
   "metadata": {},
   "source": [
    "##### Config apikey and cache"
   ]
  },
  {
   "cell_type": "code",
   "execution_count": 3,
   "metadata": {
    "colab": {},
    "colab_type": "code",
    "id": "xuRd3UQBGTgr"
   },
   "outputs": [],
   "source": [
    "config.apikey = '5f0b74b33503e4ad4a7181a91e28719f'\n",
    "config.server = 'https://test.openml.org/api/v1'\n",
    "config.set_cache_directory(os.path.expanduser('C:/Users/Ponnivalavan Kumar/.openml/cache'))"
   ]
  },
  {
   "cell_type": "markdown",
   "metadata": {},
   "source": [
    "##### Download list of datasets"
   ]
  },
  {
   "cell_type": "code",
   "execution_count": 4,
   "metadata": {},
   "outputs": [],
   "source": [
    "openml_list = datasets.list_datasets()"
   ]
  },
  {
   "cell_type": "code",
   "execution_count": 5,
   "metadata": {},
   "outputs": [
    {
     "data": {
      "text/html": [
       "<div>\n",
       "<style scoped>\n",
       "    .dataframe tbody tr th:only-of-type {\n",
       "        vertical-align: middle;\n",
       "    }\n",
       "\n",
       "    .dataframe tbody tr th {\n",
       "        vertical-align: top;\n",
       "    }\n",
       "\n",
       "    .dataframe thead th {\n",
       "        text-align: right;\n",
       "    }\n",
       "</style>\n",
       "<table border=\"1\" class=\"dataframe\">\n",
       "  <thead>\n",
       "    <tr style=\"text-align: right;\">\n",
       "      <th></th>\n",
       "      <th>did</th>\n",
       "      <th>name</th>\n",
       "      <th>format</th>\n",
       "      <th>status</th>\n",
       "      <th>MajorityClassSize</th>\n",
       "      <th>MaxNominalAttDistinctValues</th>\n",
       "      <th>MinorityClassSize</th>\n",
       "      <th>NumberOfClasses</th>\n",
       "      <th>NumberOfFeatures</th>\n",
       "      <th>NumberOfInstances</th>\n",
       "      <th>NumberOfInstancesWithMissingValues</th>\n",
       "      <th>NumberOfMissingValues</th>\n",
       "      <th>NumberOfNumericFeatures</th>\n",
       "      <th>NumberOfSymbolicFeatures</th>\n",
       "    </tr>\n",
       "  </thead>\n",
       "  <tbody>\n",
       "    <tr>\n",
       "      <th>1</th>\n",
       "      <td>1</td>\n",
       "      <td>anneal</td>\n",
       "      <td>ARFF</td>\n",
       "      <td>active</td>\n",
       "      <td>684.0</td>\n",
       "      <td>7.0</td>\n",
       "      <td>8.0</td>\n",
       "      <td>5.0</td>\n",
       "      <td>39.0</td>\n",
       "      <td>898.0</td>\n",
       "      <td>898.0</td>\n",
       "      <td>22175.0</td>\n",
       "      <td>6.0</td>\n",
       "      <td>33.0</td>\n",
       "    </tr>\n",
       "    <tr>\n",
       "      <th>2</th>\n",
       "      <td>2</td>\n",
       "      <td>kr-vs-kp</td>\n",
       "      <td>ARFF</td>\n",
       "      <td>active</td>\n",
       "      <td>1669.0</td>\n",
       "      <td>3.0</td>\n",
       "      <td>1527.0</td>\n",
       "      <td>2.0</td>\n",
       "      <td>37.0</td>\n",
       "      <td>3196.0</td>\n",
       "      <td>0.0</td>\n",
       "      <td>0.0</td>\n",
       "      <td>0.0</td>\n",
       "      <td>37.0</td>\n",
       "    </tr>\n",
       "    <tr>\n",
       "      <th>3</th>\n",
       "      <td>3</td>\n",
       "      <td>letter</td>\n",
       "      <td>ARFF</td>\n",
       "      <td>active</td>\n",
       "      <td>813.0</td>\n",
       "      <td>26.0</td>\n",
       "      <td>734.0</td>\n",
       "      <td>26.0</td>\n",
       "      <td>17.0</td>\n",
       "      <td>20000.0</td>\n",
       "      <td>0.0</td>\n",
       "      <td>0.0</td>\n",
       "      <td>16.0</td>\n",
       "      <td>1.0</td>\n",
       "    </tr>\n",
       "    <tr>\n",
       "      <th>4</th>\n",
       "      <td>4</td>\n",
       "      <td>balance-scale</td>\n",
       "      <td>ARFF</td>\n",
       "      <td>active</td>\n",
       "      <td>288.0</td>\n",
       "      <td>3.0</td>\n",
       "      <td>49.0</td>\n",
       "      <td>3.0</td>\n",
       "      <td>5.0</td>\n",
       "      <td>625.0</td>\n",
       "      <td>0.0</td>\n",
       "      <td>0.0</td>\n",
       "      <td>4.0</td>\n",
       "      <td>1.0</td>\n",
       "    </tr>\n",
       "    <tr>\n",
       "      <th>5</th>\n",
       "      <td>5</td>\n",
       "      <td>mfeat-factors</td>\n",
       "      <td>ARFF</td>\n",
       "      <td>active</td>\n",
       "      <td>200.0</td>\n",
       "      <td>10.0</td>\n",
       "      <td>200.0</td>\n",
       "      <td>10.0</td>\n",
       "      <td>217.0</td>\n",
       "      <td>2000.0</td>\n",
       "      <td>0.0</td>\n",
       "      <td>0.0</td>\n",
       "      <td>216.0</td>\n",
       "      <td>1.0</td>\n",
       "    </tr>\n",
       "  </tbody>\n",
       "</table>\n",
       "</div>"
      ],
      "text/plain": [
       "   did           name format  status  MajorityClassSize  \\\n",
       "1    1         anneal   ARFF  active              684.0   \n",
       "2    2       kr-vs-kp   ARFF  active             1669.0   \n",
       "3    3         letter   ARFF  active              813.0   \n",
       "4    4  balance-scale   ARFF  active              288.0   \n",
       "5    5  mfeat-factors   ARFF  active              200.0   \n",
       "\n",
       "   MaxNominalAttDistinctValues  MinorityClassSize  NumberOfClasses  \\\n",
       "1                          7.0                8.0              5.0   \n",
       "2                          3.0             1527.0              2.0   \n",
       "3                         26.0              734.0             26.0   \n",
       "4                          3.0               49.0              3.0   \n",
       "5                         10.0              200.0             10.0   \n",
       "\n",
       "   NumberOfFeatures  NumberOfInstances  NumberOfInstancesWithMissingValues  \\\n",
       "1              39.0              898.0                               898.0   \n",
       "2              37.0             3196.0                                 0.0   \n",
       "3              17.0            20000.0                                 0.0   \n",
       "4               5.0              625.0                                 0.0   \n",
       "5             217.0             2000.0                                 0.0   \n",
       "\n",
       "   NumberOfMissingValues  NumberOfNumericFeatures  NumberOfSymbolicFeatures  \n",
       "1                22175.0                      6.0                      33.0  \n",
       "2                    0.0                      0.0                      37.0  \n",
       "3                    0.0                     16.0                       1.0  \n",
       "4                    0.0                      4.0                       1.0  \n",
       "5                    0.0                    216.0                       1.0  "
      ]
     },
     "execution_count": 5,
     "metadata": {},
     "output_type": "execute_result"
    }
   ],
   "source": [
    "data_list = pd.DataFrame.from_dict(openml_list, orient='index')\n",
    "data_list.head(5)"
   ]
  },
  {
   "cell_type": "code",
   "execution_count": 6,
   "metadata": {},
   "outputs": [
    {
     "data": {
      "text/html": [
       "<div>\n",
       "<style scoped>\n",
       "    .dataframe tbody tr th:only-of-type {\n",
       "        vertical-align: middle;\n",
       "    }\n",
       "\n",
       "    .dataframe tbody tr th {\n",
       "        vertical-align: top;\n",
       "    }\n",
       "\n",
       "    .dataframe thead th {\n",
       "        text-align: right;\n",
       "    }\n",
       "</style>\n",
       "<table border=\"1\" class=\"dataframe\">\n",
       "  <thead>\n",
       "    <tr style=\"text-align: right;\">\n",
       "      <th></th>\n",
       "      <th>did</th>\n",
       "      <th>name</th>\n",
       "      <th>format</th>\n",
       "      <th>status</th>\n",
       "      <th>MajorityClassSize</th>\n",
       "      <th>MaxNominalAttDistinctValues</th>\n",
       "      <th>MinorityClassSize</th>\n",
       "      <th>NumberOfClasses</th>\n",
       "      <th>NumberOfFeatures</th>\n",
       "      <th>NumberOfInstances</th>\n",
       "      <th>NumberOfInstancesWithMissingValues</th>\n",
       "      <th>NumberOfMissingValues</th>\n",
       "      <th>NumberOfNumericFeatures</th>\n",
       "      <th>NumberOfSymbolicFeatures</th>\n",
       "    </tr>\n",
       "  </thead>\n",
       "  <tbody>\n",
       "    <tr>\n",
       "      <th>61</th>\n",
       "      <td>61</td>\n",
       "      <td>artificial-characters</td>\n",
       "      <td>ARFF</td>\n",
       "      <td>active</td>\n",
       "      <td>1416.0</td>\n",
       "      <td>10.0</td>\n",
       "      <td>600.0</td>\n",
       "      <td>10.0</td>\n",
       "      <td>8.0</td>\n",
       "      <td>10218.0</td>\n",
       "      <td>0.0</td>\n",
       "      <td>0.0</td>\n",
       "      <td>7.0</td>\n",
       "      <td>1.0</td>\n",
       "    </tr>\n",
       "    <tr>\n",
       "      <th>71</th>\n",
       "      <td>71</td>\n",
       "      <td>har</td>\n",
       "      <td>ARFF</td>\n",
       "      <td>active</td>\n",
       "      <td>1944.0</td>\n",
       "      <td>6.0</td>\n",
       "      <td>1406.0</td>\n",
       "      <td>6.0</td>\n",
       "      <td>562.0</td>\n",
       "      <td>10299.0</td>\n",
       "      <td>0.0</td>\n",
       "      <td>0.0</td>\n",
       "      <td>561.0</td>\n",
       "      <td>1.0</td>\n",
       "    </tr>\n",
       "    <tr>\n",
       "      <th>51</th>\n",
       "      <td>51</td>\n",
       "      <td>jm1</td>\n",
       "      <td>ARFF</td>\n",
       "      <td>active</td>\n",
       "      <td>8779.0</td>\n",
       "      <td>2.0</td>\n",
       "      <td>2106.0</td>\n",
       "      <td>2.0</td>\n",
       "      <td>22.0</td>\n",
       "      <td>10885.0</td>\n",
       "      <td>5.0</td>\n",
       "      <td>25.0</td>\n",
       "      <td>21.0</td>\n",
       "      <td>1.0</td>\n",
       "    </tr>\n",
       "    <tr>\n",
       "      <th>18</th>\n",
       "      <td>18</td>\n",
       "      <td>pendigits</td>\n",
       "      <td>ARFF</td>\n",
       "      <td>active</td>\n",
       "      <td>1144.0</td>\n",
       "      <td>10.0</td>\n",
       "      <td>1055.0</td>\n",
       "      <td>10.0</td>\n",
       "      <td>17.0</td>\n",
       "      <td>10992.0</td>\n",
       "      <td>0.0</td>\n",
       "      <td>0.0</td>\n",
       "      <td>16.0</td>\n",
       "      <td>1.0</td>\n",
       "    </tr>\n",
       "  </tbody>\n",
       "</table>\n",
       "</div>"
      ],
      "text/plain": [
       "    did                   name format  status  MajorityClassSize  \\\n",
       "61   61  artificial-characters   ARFF  active             1416.0   \n",
       "71   71                    har   ARFF  active             1944.0   \n",
       "51   51                    jm1   ARFF  active             8779.0   \n",
       "18   18              pendigits   ARFF  active             1144.0   \n",
       "\n",
       "    MaxNominalAttDistinctValues  MinorityClassSize  NumberOfClasses  \\\n",
       "61                         10.0              600.0             10.0   \n",
       "71                          6.0             1406.0              6.0   \n",
       "51                          2.0             2106.0              2.0   \n",
       "18                         10.0             1055.0             10.0   \n",
       "\n",
       "    NumberOfFeatures  NumberOfInstances  NumberOfInstancesWithMissingValues  \\\n",
       "61               8.0            10218.0                                 0.0   \n",
       "71             562.0            10299.0                                 0.0   \n",
       "51              22.0            10885.0                                 5.0   \n",
       "18              17.0            10992.0                                 0.0   \n",
       "\n",
       "    NumberOfMissingValues  NumberOfNumericFeatures  NumberOfSymbolicFeatures  \n",
       "61                    0.0                      7.0                       1.0  \n",
       "71                    0.0                    561.0                       1.0  \n",
       "51                   25.0                     21.0                       1.0  \n",
       "18                    0.0                     16.0                       1.0  "
      ]
     },
     "execution_count": 6,
     "metadata": {},
     "output_type": "execute_result"
    }
   ],
   "source": [
    "data_list[data_list['NumberOfInstances'] > 10000].sort_values(['NumberOfInstances']).head(4)"
   ]
  },
  {
   "cell_type": "code",
   "execution_count": 7,
   "metadata": {},
   "outputs": [
    {
     "data": {
      "text/html": [
       "<div>\n",
       "<style scoped>\n",
       "    .dataframe tbody tr th:only-of-type {\n",
       "        vertical-align: middle;\n",
       "    }\n",
       "\n",
       "    .dataframe tbody tr th {\n",
       "        vertical-align: top;\n",
       "    }\n",
       "\n",
       "    .dataframe thead th {\n",
       "        text-align: right;\n",
       "    }\n",
       "</style>\n",
       "<table border=\"1\" class=\"dataframe\">\n",
       "  <thead>\n",
       "    <tr style=\"text-align: right;\">\n",
       "      <th></th>\n",
       "      <th>did</th>\n",
       "      <th>name</th>\n",
       "      <th>format</th>\n",
       "      <th>status</th>\n",
       "      <th>MajorityClassSize</th>\n",
       "      <th>MaxNominalAttDistinctValues</th>\n",
       "      <th>MinorityClassSize</th>\n",
       "      <th>NumberOfClasses</th>\n",
       "      <th>NumberOfFeatures</th>\n",
       "      <th>NumberOfInstances</th>\n",
       "      <th>NumberOfInstancesWithMissingValues</th>\n",
       "      <th>NumberOfMissingValues</th>\n",
       "      <th>NumberOfNumericFeatures</th>\n",
       "      <th>NumberOfSymbolicFeatures</th>\n",
       "    </tr>\n",
       "  </thead>\n",
       "  <tbody>\n",
       "    <tr>\n",
       "      <th>68</th>\n",
       "      <td>68</td>\n",
       "      <td>eeg-eye-state</td>\n",
       "      <td>ARFF</td>\n",
       "      <td>active</td>\n",
       "      <td>8257.0</td>\n",
       "      <td>2.0</td>\n",
       "      <td>6723.0</td>\n",
       "      <td>2.0</td>\n",
       "      <td>15.0</td>\n",
       "      <td>14980.0</td>\n",
       "      <td>0.0</td>\n",
       "      <td>0.0</td>\n",
       "      <td>14.0</td>\n",
       "      <td>1.0</td>\n",
       "    </tr>\n",
       "  </tbody>\n",
       "</table>\n",
       "</div>"
      ],
      "text/plain": [
       "    did           name format  status  MajorityClassSize  \\\n",
       "68   68  eeg-eye-state   ARFF  active             8257.0   \n",
       "\n",
       "    MaxNominalAttDistinctValues  MinorityClassSize  NumberOfClasses  \\\n",
       "68                          2.0             6723.0              2.0   \n",
       "\n",
       "    NumberOfFeatures  NumberOfInstances  NumberOfInstancesWithMissingValues  \\\n",
       "68              15.0            14980.0                                 0.0   \n",
       "\n",
       "    NumberOfMissingValues  NumberOfNumericFeatures  NumberOfSymbolicFeatures  \n",
       "68                    0.0                     14.0                       1.0  "
      ]
     },
     "execution_count": 7,
     "metadata": {},
     "output_type": "execute_result"
    }
   ],
   "source": [
    "data_list[data_list.name =='eeg-eye-state']"
   ]
  },
  {
   "cell_type": "code",
   "execution_count": 8,
   "metadata": {},
   "outputs": [
    {
     "data": {
      "text/html": [
       "<div>\n",
       "<style scoped>\n",
       "    .dataframe tbody tr th:only-of-type {\n",
       "        vertical-align: middle;\n",
       "    }\n",
       "\n",
       "    .dataframe tbody tr th {\n",
       "        vertical-align: top;\n",
       "    }\n",
       "\n",
       "    .dataframe thead th {\n",
       "        text-align: right;\n",
       "    }\n",
       "</style>\n",
       "<table border=\"1\" class=\"dataframe\">\n",
       "  <thead>\n",
       "    <tr style=\"text-align: right;\">\n",
       "      <th></th>\n",
       "      <th>did</th>\n",
       "      <th>name</th>\n",
       "      <th>format</th>\n",
       "      <th>status</th>\n",
       "      <th>MajorityClassSize</th>\n",
       "      <th>MaxNominalAttDistinctValues</th>\n",
       "      <th>MinorityClassSize</th>\n",
       "      <th>NumberOfClasses</th>\n",
       "      <th>NumberOfFeatures</th>\n",
       "      <th>NumberOfInstances</th>\n",
       "      <th>NumberOfInstancesWithMissingValues</th>\n",
       "      <th>NumberOfMissingValues</th>\n",
       "      <th>NumberOfNumericFeatures</th>\n",
       "      <th>NumberOfSymbolicFeatures</th>\n",
       "    </tr>\n",
       "  </thead>\n",
       "  <tbody>\n",
       "    <tr>\n",
       "      <th>78</th>\n",
       "      <td>78</td>\n",
       "      <td>one-hundred-plants-margin</td>\n",
       "      <td>ARFF</td>\n",
       "      <td>active</td>\n",
       "      <td>16.0</td>\n",
       "      <td>100.0</td>\n",
       "      <td>16.0</td>\n",
       "      <td>100.0</td>\n",
       "      <td>65.0</td>\n",
       "      <td>1600.0</td>\n",
       "      <td>0.0</td>\n",
       "      <td>0.0</td>\n",
       "      <td>64.0</td>\n",
       "      <td>1.0</td>\n",
       "    </tr>\n",
       "    <tr>\n",
       "      <th>79</th>\n",
       "      <td>79</td>\n",
       "      <td>one-hundred-plants-shape</td>\n",
       "      <td>ARFF</td>\n",
       "      <td>active</td>\n",
       "      <td>16.0</td>\n",
       "      <td>100.0</td>\n",
       "      <td>16.0</td>\n",
       "      <td>100.0</td>\n",
       "      <td>65.0</td>\n",
       "      <td>1600.0</td>\n",
       "      <td>0.0</td>\n",
       "      <td>0.0</td>\n",
       "      <td>64.0</td>\n",
       "      <td>1.0</td>\n",
       "    </tr>\n",
       "    <tr>\n",
       "      <th>80</th>\n",
       "      <td>80</td>\n",
       "      <td>one-hundred-plants-texture</td>\n",
       "      <td>ARFF</td>\n",
       "      <td>active</td>\n",
       "      <td>16.0</td>\n",
       "      <td>100.0</td>\n",
       "      <td>15.0</td>\n",
       "      <td>100.0</td>\n",
       "      <td>65.0</td>\n",
       "      <td>1599.0</td>\n",
       "      <td>0.0</td>\n",
       "      <td>0.0</td>\n",
       "      <td>64.0</td>\n",
       "      <td>1.0</td>\n",
       "    </tr>\n",
       "  </tbody>\n",
       "</table>\n",
       "</div>"
      ],
      "text/plain": [
       "    did                        name format  status  MajorityClassSize  \\\n",
       "78   78   one-hundred-plants-margin   ARFF  active               16.0   \n",
       "79   79    one-hundred-plants-shape   ARFF  active               16.0   \n",
       "80   80  one-hundred-plants-texture   ARFF  active               16.0   \n",
       "\n",
       "    MaxNominalAttDistinctValues  MinorityClassSize  NumberOfClasses  \\\n",
       "78                        100.0               16.0            100.0   \n",
       "79                        100.0               16.0            100.0   \n",
       "80                        100.0               15.0            100.0   \n",
       "\n",
       "    NumberOfFeatures  NumberOfInstances  NumberOfInstancesWithMissingValues  \\\n",
       "78              65.0             1600.0                                 0.0   \n",
       "79              65.0             1600.0                                 0.0   \n",
       "80              65.0             1599.0                                 0.0   \n",
       "\n",
       "    NumberOfMissingValues  NumberOfNumericFeatures  NumberOfSymbolicFeatures  \n",
       "78                    0.0                     64.0                       1.0  \n",
       "79                    0.0                     64.0                       1.0  \n",
       "80                    0.0                     64.0                       1.0  "
      ]
     },
     "execution_count": 8,
     "metadata": {},
     "output_type": "execute_result"
    }
   ],
   "source": [
    "data_list[data_list.NumberOfClasses > 50]"
   ]
  },
  {
   "cell_type": "markdown",
   "metadata": {
    "colab_type": "text",
    "id": "xu1M33Ma9hKf",
    "slideshow": {
     "slide_type": "subslide"
    }
   },
   "source": [
    "## Download datasets\n",
    "Download the `eeg_eye_state` dataset. This is done based on the dataset ID ('did')."
   ]
  },
  {
   "cell_type": "code",
   "execution_count": 9,
   "metadata": {
    "colab": {},
    "colab_type": "code",
    "id": "qMSPGZF29hKf"
   },
   "outputs": [
    {
     "data": {
      "text/plain": [
       "'eeg-eye-state'"
      ]
     },
     "execution_count": 9,
     "metadata": {},
     "output_type": "execute_result"
    }
   ],
   "source": [
    "eegdata = datasets.get_dataset(68)\n",
    "eegdata.name"
   ]
  },
  {
   "cell_type": "markdown",
   "metadata": {
    "colab_type": "text",
    "id": "lcbLwDzX9hKj",
    "slideshow": {
     "slide_type": "subslide"
    }
   },
   "source": [
    "Get the actual data.  \n",
    "Returned as numpy array, with meta-info (e.g. target feature, feature names,...)"
   ]
  },
  {
   "cell_type": "code",
   "execution_count": 10,
   "metadata": {
    "colab": {},
    "colab_type": "code",
    "id": "Lqg1h96n9hKk"
   },
   "outputs": [
    {
     "data": {
      "text/html": [
       "<div>\n",
       "<style scoped>\n",
       "    .dataframe tbody tr th:only-of-type {\n",
       "        vertical-align: middle;\n",
       "    }\n",
       "\n",
       "    .dataframe tbody tr th {\n",
       "        vertical-align: top;\n",
       "    }\n",
       "\n",
       "    .dataframe thead th {\n",
       "        text-align: right;\n",
       "    }\n",
       "</style>\n",
       "<table border=\"1\" class=\"dataframe\">\n",
       "  <thead>\n",
       "    <tr style=\"text-align: right;\">\n",
       "      <th></th>\n",
       "      <th>V1</th>\n",
       "      <th>V2</th>\n",
       "      <th>V3</th>\n",
       "      <th>V4</th>\n",
       "      <th>V5</th>\n",
       "      <th>V6</th>\n",
       "      <th>V7</th>\n",
       "      <th>V8</th>\n",
       "      <th>V9</th>\n",
       "      <th>V10</th>\n",
       "      <th>V11</th>\n",
       "      <th>V12</th>\n",
       "      <th>V13</th>\n",
       "      <th>V14</th>\n",
       "      <th>class</th>\n",
       "    </tr>\n",
       "  </thead>\n",
       "  <tbody>\n",
       "    <tr>\n",
       "      <th>0</th>\n",
       "      <td>4329.229980</td>\n",
       "      <td>4009.229980</td>\n",
       "      <td>4289.229980</td>\n",
       "      <td>4148.209961</td>\n",
       "      <td>4350.259766</td>\n",
       "      <td>4586.149902</td>\n",
       "      <td>4096.919922</td>\n",
       "      <td>4641.029785</td>\n",
       "      <td>4222.049805</td>\n",
       "      <td>4238.459961</td>\n",
       "      <td>4211.279785</td>\n",
       "      <td>4280.509766</td>\n",
       "      <td>4635.899902</td>\n",
       "      <td>4393.850098</td>\n",
       "      <td>0</td>\n",
       "    </tr>\n",
       "    <tr>\n",
       "      <th>1</th>\n",
       "      <td>4324.620117</td>\n",
       "      <td>4004.620117</td>\n",
       "      <td>4293.850098</td>\n",
       "      <td>4148.720215</td>\n",
       "      <td>4342.049805</td>\n",
       "      <td>4586.669922</td>\n",
       "      <td>4097.439941</td>\n",
       "      <td>4638.970215</td>\n",
       "      <td>4210.770020</td>\n",
       "      <td>4226.669922</td>\n",
       "      <td>4207.689941</td>\n",
       "      <td>4279.490234</td>\n",
       "      <td>4632.819824</td>\n",
       "      <td>4384.100098</td>\n",
       "      <td>0</td>\n",
       "    </tr>\n",
       "    <tr>\n",
       "      <th>2</th>\n",
       "      <td>4327.689941</td>\n",
       "      <td>4006.669922</td>\n",
       "      <td>4295.379883</td>\n",
       "      <td>4156.410156</td>\n",
       "      <td>4336.919922</td>\n",
       "      <td>4583.589844</td>\n",
       "      <td>4096.919922</td>\n",
       "      <td>4630.259766</td>\n",
       "      <td>4207.689941</td>\n",
       "      <td>4222.049805</td>\n",
       "      <td>4206.669922</td>\n",
       "      <td>4282.049805</td>\n",
       "      <td>4628.720215</td>\n",
       "      <td>4389.229980</td>\n",
       "      <td>0</td>\n",
       "    </tr>\n",
       "    <tr>\n",
       "      <th>3</th>\n",
       "      <td>4328.720215</td>\n",
       "      <td>4011.790039</td>\n",
       "      <td>4296.410156</td>\n",
       "      <td>4155.899902</td>\n",
       "      <td>4343.589844</td>\n",
       "      <td>4582.560059</td>\n",
       "      <td>4097.439941</td>\n",
       "      <td>4630.770020</td>\n",
       "      <td>4217.439941</td>\n",
       "      <td>4235.379883</td>\n",
       "      <td>4210.770020</td>\n",
       "      <td>4287.689941</td>\n",
       "      <td>4632.310059</td>\n",
       "      <td>4396.410156</td>\n",
       "      <td>0</td>\n",
       "    </tr>\n",
       "    <tr>\n",
       "      <th>4</th>\n",
       "      <td>4326.149902</td>\n",
       "      <td>4011.790039</td>\n",
       "      <td>4292.310059</td>\n",
       "      <td>4151.279785</td>\n",
       "      <td>4347.689941</td>\n",
       "      <td>4586.669922</td>\n",
       "      <td>4095.899902</td>\n",
       "      <td>4627.689941</td>\n",
       "      <td>4210.770020</td>\n",
       "      <td>4244.100098</td>\n",
       "      <td>4212.819824</td>\n",
       "      <td>4288.209961</td>\n",
       "      <td>4632.819824</td>\n",
       "      <td>4398.459961</td>\n",
       "      <td>0</td>\n",
       "    </tr>\n",
       "  </tbody>\n",
       "</table>\n",
       "</div>"
      ],
      "text/plain": [
       "            V1           V2           V3           V4           V5  \\\n",
       "0  4329.229980  4009.229980  4289.229980  4148.209961  4350.259766   \n",
       "1  4324.620117  4004.620117  4293.850098  4148.720215  4342.049805   \n",
       "2  4327.689941  4006.669922  4295.379883  4156.410156  4336.919922   \n",
       "3  4328.720215  4011.790039  4296.410156  4155.899902  4343.589844   \n",
       "4  4326.149902  4011.790039  4292.310059  4151.279785  4347.689941   \n",
       "\n",
       "            V6           V7           V8           V9          V10  \\\n",
       "0  4586.149902  4096.919922  4641.029785  4222.049805  4238.459961   \n",
       "1  4586.669922  4097.439941  4638.970215  4210.770020  4226.669922   \n",
       "2  4583.589844  4096.919922  4630.259766  4207.689941  4222.049805   \n",
       "3  4582.560059  4097.439941  4630.770020  4217.439941  4235.379883   \n",
       "4  4586.669922  4095.899902  4627.689941  4210.770020  4244.100098   \n",
       "\n",
       "           V11          V12          V13          V14  class  \n",
       "0  4211.279785  4280.509766  4635.899902  4393.850098      0  \n",
       "1  4207.689941  4279.490234  4632.819824  4384.100098      0  \n",
       "2  4206.669922  4282.049805  4628.720215  4389.229980      0  \n",
       "3  4210.770020  4287.689941  4632.310059  4396.410156      0  \n",
       "4  4212.819824  4288.209961  4632.819824  4398.459961      0  "
      ]
     },
     "execution_count": 10,
     "metadata": {},
     "output_type": "execute_result"
    }
   ],
   "source": [
    "X, y, attribute_names = eegdata.get_data(\n",
    "    target=eegdata.default_target_attribute,\n",
    "    return_attribute_names=True,\n",
    ")\n",
    "df = pd.DataFrame(X, columns = attribute_names)\n",
    "df['class'] = y\n",
    "df.head(5)"
   ]
  },
  {
   "cell_type": "markdown",
   "metadata": {
    "colab_type": "text",
    "id": "2Es1EZWXGkvH"
   },
   "source": [
    "### Exercise\n",
    "- Explore the data visually"
   ]
  },
  {
   "cell_type": "code",
   "execution_count": 11,
   "metadata": {},
   "outputs": [],
   "source": [
    "?sns.pairplot"
   ]
  },
  {
   "cell_type": "code",
   "execution_count": 12,
   "metadata": {},
   "outputs": [
    {
     "data": {
      "text/plain": [
       "<seaborn.axisgrid.PairGrid at 0x24674f2e320>"
      ]
     },
     "execution_count": 12,
     "metadata": {},
     "output_type": "execute_result"
    },
    {
     "data": {
      "image/png": "[encoded data removed]",
      "text/plain": [
       "<Figure size 942.375x900 with 30 Axes>"
      ]
     },
     "metadata": {},
     "output_type": "display_data"
    }
   ],
   "source": [
    "df_subset = df[['V1','V2','V3','V4','class']].sample(n=100)\n",
    "sns.pairplot(df_subset,hue=\"class\")"
   ]
  },
  {
   "cell_type": "markdown",
   "metadata": {
    "colab_type": "text",
    "id": "gUr122_UHUaE"
   },
   "source": [
    "# Task\n",
    "\n",
    "The function `openml.evaluation.list_evaluations(...)` returns a dictionary of evaluation records. It has several filtering functions, to keep the resulting set small (keep in mind that OpenML has almost 10 million runs, and more than a billion evaluation records). The function is documented in the [API docs](https://openml.github.io/openml-python/master/generated/openml.evaluations.list_evaluations.html#openml.evaluations.list_evaluations). It returns a dict mapping from `run_id` to [OpenMLEvaluation](https://openml.github.io/openml-python/master/generated/openml.OpenMLEvaluation.html#openml.OpenMLEvaluation). Examples of filters are `task`, `flow` and `function`. Note that one of these is mandatory.\n",
    "\n",
    "* Obtain a subset of 100 predictive accuracy (`predictive_accuracy`) results on the letter dataset (task id = 6).\n",
    "* Obtain a subset of 100 predictive accuracy (`predictive_accuracy`) results per task in the OpenML 100 and plot these "
   ]
  },
  {
   "cell_type": "code",
   "execution_count": 13,
   "metadata": {
    "colab": {},
    "colab_type": "code",
    "id": "lhh3TWuNQ9i5"
   },
   "outputs": [
    {
     "ename": "KeyError",
     "evalue": "'oml:tag'",
     "output_type": "error",
     "traceback": [
      "\u001b[1;31m---------------------------------------------------------------------------\u001b[0m",
      "\u001b[1;31mKeyError\u001b[0m                                  Traceback (most recent call last)",
      "\u001b[1;32m<ipython-input-13-1a2859bc07e9>\u001b[0m in \u001b[0;36m<module>\u001b[1;34m()\u001b[0m\n\u001b[1;32m----> 1\u001b[1;33m \u001b[0msuite\u001b[0m \u001b[1;33m=\u001b[0m \u001b[0mstudy\u001b[0m\u001b[1;33m.\u001b[0m\u001b[0mget_study\u001b[0m\u001b[1;33m(\u001b[0m\u001b[1;34m'OpenML100'\u001b[0m\u001b[1;33m)\u001b[0m\u001b[1;33m\u001b[0m\u001b[0m\n\u001b[0m\u001b[0;32m      2\u001b[0m \u001b[0mscores\u001b[0m \u001b[1;33m=\u001b[0m \u001b[1;33m[\u001b[0m\u001b[1;33m]\u001b[0m\u001b[1;33m\u001b[0m\u001b[0m\n\u001b[0;32m      3\u001b[0m \u001b[1;32mfor\u001b[0m \u001b[0mtask_id\u001b[0m \u001b[1;32min\u001b[0m \u001b[0msuite\u001b[0m\u001b[1;33m.\u001b[0m\u001b[0mtasks\u001b[0m\u001b[1;33m[\u001b[0m\u001b[1;33m:\u001b[0m\u001b[1;36m2\u001b[0m\u001b[1;33m]\u001b[0m\u001b[1;33m:\u001b[0m \u001b[1;31m# [SPEED] only first 10 tasks\u001b[0m\u001b[1;33m\u001b[0m\u001b[0m\n\u001b[0;32m      4\u001b[0m   \u001b[0mresults\u001b[0m \u001b[1;33m=\u001b[0m \u001b[0mevaluations\u001b[0m\u001b[1;33m.\u001b[0m\u001b[0mlist_evaluations\u001b[0m\u001b[1;33m(\u001b[0m\u001b[0mfunction\u001b[0m\u001b[1;33m=\u001b[0m\u001b[1;34m'predictive_accuracy'\u001b[0m\u001b[1;33m,\u001b[0m \u001b[0mtask\u001b[0m\u001b[1;33m=\u001b[0m\u001b[1;33m[\u001b[0m\u001b[0mtask_id\u001b[0m\u001b[1;33m]\u001b[0m\u001b[1;33m,\u001b[0m \u001b[0msize\u001b[0m\u001b[1;33m=\u001b[0m\u001b[1;36m100\u001b[0m\u001b[1;33m)\u001b[0m\u001b[1;33m\u001b[0m\u001b[0m\n\u001b[0;32m      5\u001b[0m   \u001b[1;31m# Download the tasks and plot the scores\u001b[0m\u001b[1;33m\u001b[0m\u001b[1;33m\u001b[0m\u001b[0m\n",
      "\u001b[1;32m~\\Anaconda3\\lib\\site-packages\\openml\\study\\functions.py\u001b[0m in \u001b[0;36mget_study\u001b[1;34m(study_id, type)\u001b[0m\n\u001b[0;32m     31\u001b[0m     \u001b[0mcreator\u001b[0m \u001b[1;33m=\u001b[0m \u001b[0mresult_dict\u001b[0m\u001b[1;33m[\u001b[0m\u001b[1;34m'oml:creator'\u001b[0m\u001b[1;33m]\u001b[0m\u001b[1;33m\u001b[0m\u001b[0m\n\u001b[0;32m     32\u001b[0m     \u001b[0mtags\u001b[0m \u001b[1;33m=\u001b[0m \u001b[1;33m[\u001b[0m\u001b[1;33m]\u001b[0m\u001b[1;33m\u001b[0m\u001b[0m\n\u001b[1;32m---> 33\u001b[1;33m     \u001b[1;32mfor\u001b[0m \u001b[0mtag\u001b[0m \u001b[1;32min\u001b[0m \u001b[0m_multitag_to_list\u001b[0m\u001b[1;33m(\u001b[0m\u001b[0mresult_dict\u001b[0m\u001b[1;33m,\u001b[0m \u001b[1;34m'oml:tag'\u001b[0m\u001b[1;33m)\u001b[0m\u001b[1;33m:\u001b[0m\u001b[1;33m\u001b[0m\u001b[0m\n\u001b[0m\u001b[0;32m     34\u001b[0m         current_tag = {'name': tag['oml:name'],\n\u001b[0;32m     35\u001b[0m                        'write_access': tag['oml:write_access']}\n",
      "\u001b[1;32m~\\Anaconda3\\lib\\site-packages\\openml\\study\\functions.py\u001b[0m in \u001b[0;36m_multitag_to_list\u001b[1;34m(result_dict, tag)\u001b[0m\n\u001b[0;32m      6\u001b[0m \u001b[1;33m\u001b[0m\u001b[0m\n\u001b[0;32m      7\u001b[0m \u001b[1;32mdef\u001b[0m \u001b[0m_multitag_to_list\u001b[0m\u001b[1;33m(\u001b[0m\u001b[0mresult_dict\u001b[0m\u001b[1;33m,\u001b[0m \u001b[0mtag\u001b[0m\u001b[1;33m)\u001b[0m\u001b[1;33m:\u001b[0m\u001b[1;33m\u001b[0m\u001b[0m\n\u001b[1;32m----> 8\u001b[1;33m     \u001b[1;32mif\u001b[0m \u001b[0misinstance\u001b[0m\u001b[1;33m(\u001b[0m\u001b[0mresult_dict\u001b[0m\u001b[1;33m[\u001b[0m\u001b[0mtag\u001b[0m\u001b[1;33m]\u001b[0m\u001b[1;33m,\u001b[0m \u001b[0mlist\u001b[0m\u001b[1;33m)\u001b[0m\u001b[1;33m:\u001b[0m\u001b[1;33m\u001b[0m\u001b[0m\n\u001b[0m\u001b[0;32m      9\u001b[0m         \u001b[1;32mreturn\u001b[0m \u001b[0mresult_dict\u001b[0m\u001b[1;33m[\u001b[0m\u001b[0mtag\u001b[0m\u001b[1;33m]\u001b[0m\u001b[1;33m\u001b[0m\u001b[0m\n\u001b[0;32m     10\u001b[0m     \u001b[1;32melif\u001b[0m \u001b[0misinstance\u001b[0m\u001b[1;33m(\u001b[0m\u001b[0mresult_dict\u001b[0m\u001b[1;33m[\u001b[0m\u001b[0mtag\u001b[0m\u001b[1;33m]\u001b[0m\u001b[1;33m,\u001b[0m \u001b[0mdict\u001b[0m\u001b[1;33m)\u001b[0m\u001b[1;33m:\u001b[0m\u001b[1;33m\u001b[0m\u001b[0m\n",
      "\u001b[1;31mKeyError\u001b[0m: 'oml:tag'"
     ]
    }
   ],
   "source": [
    "suite = study.get_study('OpenML100')\n",
    "scores = []\n",
    "for task_id in suite.tasks[:2]: # [SPEED] only first 10 tasks\n",
    "  results = evaluations.list_evaluations(function='predictive_accuracy', task=[task_id], size=100)\n",
    "  # Download the tasks and plot the scores\n",
    "  for evaluation in results.values():\n",
    "    scores.append({\"flow\": evaluation.flow_name, \"score\": evaluation.value, \"task\": evaluation.data_name})\n",
    "    \n",
    "sns.violinplot(x=\"task\", y=\"score\", data=pd.DataFrame(scores), scale=\"width\", palette=\"Set3\");"
   ]
  },
  {
   "cell_type": "markdown",
   "metadata": {},
   "source": [
    "# Dataset Upload\n",
    "\n",
    "There are various ways to upload a dataset. The most convenient ways are documented in [this example](https://github.com/openml/openml-python/blob/master/examples/create_upload_tutorial.py). Most conveniently, this can be done using a [pandas dataframe](https://github.com/openml/openml-python/blob/a0ef724fec6ab31f6381d3ac2a84827ab535170d/examples/create_upload_tutorial.py#L206). Additionally, we need to create a [OpenMLDataset](https://openml.github.io/openml-python/master/generated/openml.OpenMLDataset.html#openml.OpenMLDataset) object, containing information about the dataset. Most notably, the arguments `name`, `default_target_attribute`, `attributes` and `data` need to be set.\n",
    "\n",
    "* Find your favorite dataset (on your laptop), load it as pandas dataframe and upload it to OpenML.\n",
    "* Common problem: Server returns error 131. This means that the description file was not complete. The [XSD](https://github.com/openml/OpenML/blob/master/openml_OS/views/pages/api_new/v1/xsd/openml.data.upload.xsd) for uploading the dataset hints what fields are mandatory.\n"
   ]
  },
  {
   "cell_type": "markdown",
   "metadata": {},
   "source": [
    "* If you did not bring you own dataset, find an interesting public dataset on:\n",
    "    * Kaggle open datasets: https://www.kaggle.com/datasets\n",
    "    * Data.world: https://data.world/\n",
    "    * Wolfram Alpha: https://datarepository.wolframcloud.com/\n",
    "    * More: https://git.io/vdTXm\n",
    "* Note that:\n",
    "    * The dataset should not already be on OpenML.\n",
    "    * Tabular (e.g. CSV) data, representing a classification or regression problem\n",
    "    * No text/image data, unless already featurized"
   ]
  },
  {
   "cell_type": "code",
   "execution_count": null,
   "metadata": {},
   "outputs": [],
   "source": [
    "df = pd.read_csv(\"heart.csv\")"
   ]
  },
  {
   "cell_type": "code",
   "execution_count": null,
   "metadata": {},
   "outputs": [],
   "source": [
    "df.head()"
   ]
  },
  {
   "cell_type": "code",
   "execution_count": null,
   "metadata": {},
   "outputs": [],
   "source": [
    "description = \"the Cleveland database on heart disease\"\n",
    "citation = None"
   ]
  },
  {
   "cell_type": "code",
   "execution_count": null,
   "metadata": {},
   "outputs": [],
   "source": [
    "heart_dataset = datasets.functions.create_dataset(name=\"heartdisease cleveland\",\n",
    "                                                 description = description,\n",
    "                                                 creator = \"Hungarian Institute of Cardiology Andras Janosi, M.D\",\n",
    "                                                 contributor = None,\n",
    "                                                 collection_date = None,\n",
    "                                                 language = 'English',\n",
    "                                                 default_target_attribute ='target',\n",
    "                                                 row_id_attribute=None,\n",
    "                                                 ignore_attribute=None,\n",
    "                                                 citation=citation,\n",
    "                                                 licence = None,\n",
    "                                                 attributes= 'auto',\n",
    "                                                 data=df,\n",
    "                                                 version_label='example',\n",
    "                                                 )\n"
   ]
  },
  {
   "cell_type": "code",
   "execution_count": null,
   "metadata": {},
   "outputs": [],
   "source": [
    "#upload_did = heart_dataset.publish()\n",
    "#print('URL for dataset: %s/data/%d' % (config.server, upload_did))"
   ]
  },
  {
   "cell_type": "code",
   "execution_count": null,
   "metadata": {},
   "outputs": [],
   "source": []
  }
 ],
 "metadata": {
  "colab": {
   "collapsed_sections": [],
   "name": "OpenML Tutorial Dataset.ipynb",
   "provenance": [],
   "version": "0.3.2"
  },
  "kernelspec": {
   "display_name": "Python 3",
   "language": "python",
   "name": "python3"
  },
  "language_info": {
   "codemirror_mode": {
    "name": "ipython",
    "version": 3
   },
   "file_extension": ".py",
   "mimetype": "text/x-python",
   "name": "python",
   "nbconvert_exporter": "python",
   "pygments_lexer": "ipython3",
   "version": "3.6.5"
  }
 },
 "nbformat": 4,
 "nbformat_minor": 1
}
